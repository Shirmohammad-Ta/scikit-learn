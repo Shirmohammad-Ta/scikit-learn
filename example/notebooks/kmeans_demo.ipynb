{
 "cells": [
  {
   "cell_type": "markdown",
   "id": "22480c37",
   "metadata": {},
   "source": [
    "# KMeans Clustering Demo\n",
    "This notebook demonstrates how to use KMeans clustering using `scikit-learn`."
   ]
  },
  {
   "cell_type": "code",
   "execution_count": null,
   "id": "8c1c0b84",
   "metadata": {},
   "outputs": [],
   "source": [
    "import matplotlib.pyplot as plt\n",
    "from sklearn.datasets import make_blobs\n",
    "from sklearn.cluster import KMeans"
   ]
  },
  {
   "cell_type": "code",
   "execution_count": null,
   "id": "431003b0",
   "metadata": {},
   "outputs": [],
   "source": [
    "# Generate sample data\n",
    "X, _ = make_blobs(n_samples=300, centers=4, cluster_std=0.6, random_state=0)\n",
    "\n",
    "plt.scatter(X[:, 0], X[:, 1], s=30)\n",
    "plt.title(\"Input Data\")\n",
    "plt.show()"
   ]
  },
  {
   "cell_type": "code",
   "execution_count": null,
   "id": "1ed954e0",
   "metadata": {},
   "outputs": [],
   "source": [
    "# Fit KMeans\n",
    "kmeans = KMeans(n_clusters=4, random_state=0)\n",
    "kmeans.fit(X)\n",
    "y_kmeans = kmeans.predict(X)"
   ]
  },
  {
   "cell_type": "code",
   "execution_count": null,
   "id": "f941c8e7",
   "metadata": {},
   "outputs": [],
   "source": [
    "# Plot KMeans result\n",
    "plt.scatter(X[:, 0], X[:, 1], c=y_kmeans, s=30, cmap='viridis')\n",
    "plt.scatter(kmeans.cluster_centers_[:, 0], kmeans.cluster_centers_[:, 1], s=100, c='red')\n",
    "plt.title(\"KMeans Result\")\n",
    "plt.show()"
   ]
  }
 ],
 "metadata": {},
 "nbformat": 4,
 "nbformat_minor": 5
}
